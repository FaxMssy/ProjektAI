{
 "cells": [
  {
   "cell_type": "markdown",
   "metadata": {},
   "source": [
    "<div class='bar_title'></div>\n",
    "\n",
    "*Enterprise AI*\n",
    "\n",
    "# Pedestrian Count prediction in Würzburg \n",
    "\n",
    "Final Project<br>\n",
    "\n",
    "\n",
    "Summer Semester 2024\n",
    "\n",
    "<img src=\"https://github.com/GuntherGust/tds2_data/blob/main/images/d3.png?raw=true\" style=\"width:20%; float:left;\" />"
   ]
  },
  {
   "cell_type": "markdown",
   "metadata": {},
   "source": [
    "ZenML initialization and restart functions"
   ]
  },
  {
   "cell_type": "code",
   "execution_count": null,
   "metadata": {},
   "outputs": [],
   "source": []
  },
  {
   "cell_type": "code",
   "execution_count": null,
   "metadata": {},
   "outputs": [],
   "source": [
    "!pip freeze | xargs pip uninstall -y\n",
    "!pip install zenml[server]==0.58.0\n",
    "!pip install scikit-learn==1.5.0\n",
    "!pip install numpy==1.26.4\n",
    "!pip install pandas==2.2.2\n",
    "!pip install matplotlib==3.9.1\n",
    "!pip install matplotlib-inline==0.1.7\n",
    "!pip install evidently\n",
    "!/home/codespace/.python/current/bin/python -m pip install ipykernel -U --user --force-reinstall"
   ]
  },
  {
   "cell_type": "code",
   "execution_count": null,
   "metadata": {},
   "outputs": [],
   "source": [
    "\n",
    "!zenml down\n",
    "!zenml up"
   ]
  },
  {
   "cell_type": "code",
   "execution_count": null,
   "metadata": {},
   "outputs": [],
   "source": [
    " \n",
    "!zenml integration install evidently -y"
   ]
  },
  {
   "cell_type": "markdown",
   "metadata": {},
   "source": [
    "# Main command to run the model"
   ]
  },
  {
   "cell_type": "code",
   "execution_count": null,
   "metadata": {},
   "outputs": [],
   "source": [
    "\n",
    "!python run.py"
   ]
  },
  {
   "cell_type": "markdown",
   "metadata": {},
   "source": [
    "# Drift Overview"
   ]
  },
  {
   "cell_type": "code",
   "execution_count": null,
   "metadata": {},
   "outputs": [],
   "source": [
    "from IPython.display import display, HTML\n",
    "from zenml.client import Client\n",
    "\n",
    "client = Client()\n",
    "drift_report = client.get_artifact_version(\"drift_report\").load()\n",
    "\n",
    "display(HTML(drift_report))"
   ]
  },
  {
   "cell_type": "markdown",
   "metadata": {},
   "source": [
    "# Drift Analysis"
   ]
  },
  {
   "cell_type": "markdown",
   "metadata": {},
   "source": [
    "1. Numerical Columns Drift Analysis\n",
    "month: Drifts because new months are appearing as  dataset entries get added\n",
    "temperature: Large drift because of seasonal changes that haven't appeared in the dataset yet \n",
    "\n",
    "Impact: Drift in these columns  significantly impacts this  model, especially because it relies heavily on temporal features. Seasonality and temporal patterns are crucial for time-series data, and changes here decrease the performance.\n",
    "\n",
    "2. Categorical Columns Drift Analysis\n",
    "weather_condition: Drift here indicates that the frequency or type of weather conditions recorded in the data has changed. This is propably the same as with the temperature because of seasonal changes and missing date of the corresponding timeframes.\n",
    "location_name: Drift is not detected in this column, because the locations stay the same throughout the dataset, as only the same three streets get measured.\n",
    "\n",
    "Impact: Large impact because the model isn't familiar with summer data. It lacks training data with these specific values and therby the predictions aren't as good as they can be.\n",
    "\n"
   ]
  },
  {
   "cell_type": "markdown",
   "metadata": {},
   "source": [
    "# Visualizing the results"
   ]
  },
  {
   "cell_type": "markdown",
   "metadata": {},
   "source": [
    "Different graphs visualizing the predictions made by the model"
   ]
  },
  {
   "cell_type": "code",
   "execution_count": null,
   "metadata": {},
   "outputs": [],
   "source": [
    "import pandas as pd\n",
    "import matplotlib.pyplot as plt\n",
    "df = pd.read_csv('data/result_with_timestamp.csv')"
   ]
  },
  {
   "cell_type": "code",
   "execution_count": null,
   "metadata": {},
   "outputs": [],
   "source": [
    "\n",
    "\n",
    "\n",
    "\n",
    "locations = ['Schönbornstraße', 'Spiegelstraße', 'Kaiserstraße']\n",
    "df_filtered = df[df['location_name'].isin(locations)]\n",
    "\n",
    "df_filtered['timestamp'] = pd.to_datetime(df_filtered['timestamp'])\n",
    "\n",
    "plt.figure(figsize=(14, 8))\n",
    "for location in locations:\n",
    "    df_location = df_filtered[df_filtered['location_name'] == location]\n",
    "    plt.plot(df_location['timestamp'], df_location['predictions'], label=location)\n",
    "\n",
    "\n",
    "plt.title('Predictions for the different locations for next 24 hours')\n",
    "plt.xlabel('Time')\n",
    "plt.ylabel('Prediction (Pedestrian Count)')\n",
    "plt.legend()\n",
    "plt.grid(True)\n",
    "plt.show()\n"
   ]
  }
 ],
 "metadata": {
  "kernelspec": {
   "display_name": "env",
   "language": "python",
   "name": "python3"
  },
  "language_info": {
   "codemirror_mode": {
    "name": "ipython",
    "version": 3
   },
   "file_extension": ".py",
   "mimetype": "text/x-python",
   "name": "python",
   "nbconvert_exporter": "python",
   "pygments_lexer": "ipython3",
   "version": "3.10.13"
  }
 },
 "nbformat": 4,
 "nbformat_minor": 2
}
